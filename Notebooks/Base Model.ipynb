{
 "cells": [
  {
   "cell_type": "code",
   "execution_count": 1,
   "metadata": {},
   "outputs": [],
   "source": [
    "import pandas as pd\n",
    "import numpy as np\n",
    "import seaborn as sns\n",
    "import matplotlib as mpl\n",
    "import matplotlib.pyplot as plt\n",
    "import os, sys, math\n",
    "%matplotlib inline"
   ]
  },
  {
   "cell_type": "code",
   "execution_count": 2,
   "metadata": {},
   "outputs": [],
   "source": [
    "train_data = pd.read_csv('../Data/train_yaOffsB.csv')\n",
    "test_data = pd.read_csv('../Data/test_pFkWwen.csv')\n",
    "sample_submission = pd.read_csv('../Data/sample_submission_O1oDc4H.csv')"
   ]
  },
  {
   "cell_type": "code",
   "execution_count": 3,
   "metadata": {},
   "outputs": [],
   "source": [
    "ID = 'ID'\n",
    "target = 'Crop_Damage'"
   ]
  },
  {
   "cell_type": "code",
   "execution_count": 4,
   "metadata": {},
   "outputs": [],
   "source": [
    "categorical_columns = ['Season', 'Pesticide_Use_Category']"
   ]
  },
  {
   "cell_type": "code",
   "execution_count": 5,
   "metadata": {},
   "outputs": [],
   "source": [
    "from sklearn.preprocessing import MinMaxScaler\n",
    "from sklearn.preprocessing import StandardScaler\n",
    "from sklearn.preprocessing import RobustScaler\n",
    "from sklearn.preprocessing import PowerTransformer\n",
    "from sklearn.preprocessing import FunctionTransformer\n",
    "from sklearn.preprocessing import LabelBinarizer"
   ]
  },
  {
   "cell_type": "code",
   "execution_count": 6,
   "metadata": {},
   "outputs": [],
   "source": [
    "from sklearn.tree import DecisionTreeClassifier\n",
    "from sklearn.ensemble import RandomForestClassifier\n",
    "from sklearn.ensemble import AdaBoostClassifier\n",
    "from sklearn.ensemble import GradientBoostingClassifier"
   ]
  },
  {
   "cell_type": "code",
   "execution_count": 7,
   "metadata": {},
   "outputs": [],
   "source": [
    "from sklearn.model_selection import train_test_split\n",
    "from sklearn.model_selection import cross_val_score"
   ]
  },
  {
   "cell_type": "code",
   "execution_count": 8,
   "metadata": {},
   "outputs": [],
   "source": [
    "from sklearn.metrics import roc_auc_score, f1_score, accuracy_score, roc_curve"
   ]
  },
  {
   "cell_type": "markdown",
   "metadata": {},
   "source": [
    "# Data Preprocessing"
   ]
  },
  {
   "cell_type": "markdown",
   "metadata": {},
   "source": [
    "## Missing Imputation"
   ]
  },
  {
   "cell_type": "code",
   "execution_count": 9,
   "metadata": {},
   "outputs": [],
   "source": [
    "train_data['Number_Weeks_Used'] = train_data['Number_Weeks_Used'].fillna(0)\n",
    "test_data['Number_Weeks_Used'] = test_data['Number_Weeks_Used'].fillna(0)"
   ]
  },
  {
   "cell_type": "markdown",
   "metadata": {},
   "source": [
    "## Scaling"
   ]
  },
  {
   "cell_type": "code",
   "execution_count": 10,
   "metadata": {},
   "outputs": [],
   "source": [
    "for column in train_data.columns:\n",
    "    if (column not in categorical_columns) & (column!=ID) & (column!=target):\n",
    "        \n",
    "        mms = MinMaxScaler()\n",
    "        ss = StandardScaler()\n",
    "        rs = RobustScaler()\n",
    "        pt = PowerTransformer()\n",
    "        ft_log = FunctionTransformer(np.log1p)\n",
    "        \n",
    "        train_data[f'{column}_mms'] = mms.fit_transform(train_data[[column]])\n",
    "        test_data[f'{column}_mms'] = mms.transform(test_data[[column]])\n",
    "        \n",
    "        train_data[f'{column}_ss'] = ss.fit_transform(train_data[[column]])\n",
    "        test_data[f'{column}_ss'] = ss.transform(test_data[[column]])\n",
    "        \n",
    "        train_data[f'{column}_rs'] = rs.fit_transform(train_data[[column]])\n",
    "        test_data[f'{column}_rs'] = rs.transform(test_data[[column]])\n",
    "        \n",
    "        train_data[f'{column}_pt'] = pt.fit_transform(train_data[[column]])\n",
    "        test_data[f'{column}_pt'] = pt.transform(test_data[[column]])\n",
    "        \n",
    "        train_data[f'{column}_ft_log'] = ft_log.fit_transform(train_data[[column]])\n",
    "        test_data[f'{column}_ft_log'] = ft_log.transform(test_data[[column]])"
   ]
  },
  {
   "cell_type": "markdown",
   "metadata": {},
   "source": [
    "## One Hot Encoding"
   ]
  },
  {
   "cell_type": "code",
   "execution_count": 11,
   "metadata": {},
   "outputs": [],
   "source": [
    "train_data['is_train'] = True\n",
    "test_data['is_train'] = False"
   ]
  },
  {
   "cell_type": "code",
   "execution_count": 12,
   "metadata": {},
   "outputs": [],
   "source": [
    "for column in categorical_columns:\n",
    "    train_data[column] = train_data[column].apply(lambda x: f'{column}_{x}')\n",
    "    test_data[column] = test_data[column].apply(lambda x: f'{column}_{x}')\n",
    "    \n",
    "for idx, column in enumerate(categorical_columns):\n",
    "    _tmp = pd.concat([train_data[['is_train', column]], test_data[['is_train', column]]])\n",
    "    _tmp_ohe = pd.get_dummies(_tmp[column])\n",
    "\n",
    "    if idx==0:\n",
    "        _tmp_final = pd.concat([_tmp[['is_train']], _tmp_ohe], axis=1)\n",
    "    else:\n",
    "        _tmp_final = pd.concat([_tmp_final, _tmp_ohe], axis=1)\n",
    "\n",
    "train_data = pd.concat([train_data.drop(categorical_columns+['is_train'], axis=1), _tmp_final[_tmp_final['is_train']]], axis=1)\n",
    "test_data = pd.concat([test_data.drop(categorical_columns+['is_train'], axis=1), _tmp_final[~_tmp_final['is_train']]], axis=1)"
   ]
  },
  {
   "cell_type": "code",
   "execution_count": 13,
   "metadata": {},
   "outputs": [],
   "source": [
    "X_train, X_val, y_train, y_val = train_test_split(train_data.drop(['ID','Crop_Damage','is_train'], axis=1), \n",
    "                                                  train_data[['Crop_Damage']], test_size = 0.3, \n",
    "                                                  random_state = 1234, stratify = train_data['Crop_Damage'])"
   ]
  },
  {
   "cell_type": "code",
   "execution_count": 14,
   "metadata": {},
   "outputs": [],
   "source": [
    "no_of_estimators = 500"
   ]
  },
  {
   "cell_type": "code",
   "execution_count": 38,
   "metadata": {},
   "outputs": [],
   "source": [
    "models = {\n",
    "    'DT': DecisionTreeClassifier(),\n",
    "    'RF': RandomForestClassifier(n_estimators = no_of_estimators, max_depth=10, random_state=1234),\n",
    "    'GBM_ES': GradientBoostingClassifier(n_estimators = no_of_estimators, max_depth=10, random_state=1234, \n",
    "                                      validation_fraction=0.2, n_iter_no_change=50)\n",
    "}"
   ]
  },
  {
   "cell_type": "code",
   "execution_count": 39,
   "metadata": {},
   "outputs": [
    {
     "name": "stdout",
     "output_type": "stream",
     "text": [
      "Building DT model starts\n",
      "The average accuracy of DT model on training data is 0.75 with a std of +/- 0.16 %\n",
      "The average ROC score of the DT model on validation data is 0.75\n",
      "Building DT model ends\n",
      "---------------------------------------------------------------------------------------------------------\n",
      "Building RF model starts\n",
      "The average accuracy of RF model on training data is 0.84 with a std of +/- 0.17 %\n",
      "The average ROC score of the RF model on validation data is 0.85\n",
      "Building RF model ends\n",
      "---------------------------------------------------------------------------------------------------------\n",
      "Building GBM_ES model starts\n",
      "The average accuracy of GBM_ES model on training data is 0.83 with a std of +/- 0.28 %\n",
      "The average ROC score of the GBM_ES model on validation data is 0.84\n",
      "Building GBM_ES model ends\n",
      "---------------------------------------------------------------------------------------------------------\n"
     ]
    }
   ],
   "source": [
    "for clf, model in models.items():\n",
    "    print(f\"Building {clf} model starts\")\n",
    "    cv_scores = cross_val_score(model, X_train, y_train.values.ravel(), cv=5, scoring='accuracy')\n",
    "    model.fit(X_train,y_train.values.ravel())\n",
    "    y_pred = model.predict(X_val)\n",
    "    val_score = accuracy_score(y_val.values.ravel(), y_pred)\n",
    "    print(f\"The average accuracy of {clf} model on training data is {np.round(cv_scores.mean(),2)} with a std of +/- {np.round((cv_scores.std()/cv_scores.mean())*100,2)} %\")\n",
    "    print(f\"The average ROC score of the {clf} model on validation data is {np.round(val_score,2)}\")\n",
    "    print(f\"Building {clf} model ends\")\n",
    "    print(f\"---------------------------------------------------------------------------------------------------------\")"
   ]
  },
  {
   "cell_type": "code",
   "execution_count": 45,
   "metadata": {},
   "outputs": [],
   "source": [
    "model_imp = pd.DataFrame({'var':X_train.columns,'imp':models['RF'].feature_importances_})"
   ]
  },
  {
   "cell_type": "code",
   "execution_count": 49,
   "metadata": {},
   "outputs": [],
   "source": [
    "from sklearn.model_selection import RandomizedSearchCV"
   ]
  },
  {
   "cell_type": "code",
   "execution_count": 65,
   "metadata": {},
   "outputs": [
    {
     "data": {
      "text/plain": [
       "{'bootstrap': True,\n",
       " 'ccp_alpha': 0.0,\n",
       " 'class_weight': None,\n",
       " 'criterion': 'gini',\n",
       " 'max_depth': 10,\n",
       " 'max_features': 'auto',\n",
       " 'max_leaf_nodes': None,\n",
       " 'max_samples': None,\n",
       " 'min_impurity_decrease': 0.0,\n",
       " 'min_impurity_split': None,\n",
       " 'min_samples_leaf': 1,\n",
       " 'min_samples_split': 2,\n",
       " 'min_weight_fraction_leaf': 0.0,\n",
       " 'n_estimators': 500,\n",
       " 'n_jobs': None,\n",
       " 'oob_score': False,\n",
       " 'random_state': 1234,\n",
       " 'verbose': 0,\n",
       " 'warm_start': False}"
      ]
     },
     "execution_count": 65,
     "metadata": {},
     "output_type": "execute_result"
    }
   ],
   "source": [
    "models['RF'].get_params()"
   ]
  },
  {
   "cell_type": "code",
   "execution_count": 67,
   "metadata": {},
   "outputs": [],
   "source": [
    "# Number of trees in random forest\n",
    "n_estimators = [int(x) for x in np.linspace(20,2000,10)]\n",
    "# Number of features to consider at every split\n",
    "max_features = ['auto', 'sqrt']\n",
    "# Maximum number of levels in tree\n",
    "max_depth = [int(x) for x in np.linspace(3,20,10)]\n",
    "max_depth.append(None)\n",
    "# Minimum number of samples required to split a node\n",
    "min_samples_split = [2,5,10]\n",
    "# Minimum number of samples required at each leaf node\n",
    "min_samples_leaf = [1,2,4] \n",
    "# Method of selecting samples for training each tree\n",
    "bootstrap = [True, False]"
   ]
  },
  {
   "cell_type": "code",
   "execution_count": 71,
   "metadata": {},
   "outputs": [],
   "source": [
    "random_grid = {\n",
    "    'bootstrap': bootstrap,\n",
    "    'max_depth': max_depth,\n",
    "    'max_features': max_features,\n",
    "    'min_samples_leaf': min_samples_leaf,\n",
    "    'min_samples_split': min_samples_split,\n",
    "    'n_estimators': n_estimators\n",
    "}"
   ]
  },
  {
   "cell_type": "code",
   "execution_count": 74,
   "metadata": {},
   "outputs": [
    {
     "name": "stdout",
     "output_type": "stream",
     "text": [
      "Fitting 5 folds for each of 5 candidates, totalling 25 fits\n"
     ]
    },
    {
     "name": "stderr",
     "output_type": "stream",
     "text": [
      "[Parallel(n_jobs=-1)]: Using backend LokyBackend with 4 concurrent workers.\n",
      "[Parallel(n_jobs=-1)]: Done  25 out of  25 | elapsed: 32.3min finished\n",
      "/Users/aryan/opt/anaconda3/lib/python3.7/site-packages/sklearn/model_selection/_search.py:765: DataConversionWarning: A column-vector y was passed when a 1d array was expected. Please change the shape of y to (n_samples,), for example using ravel().\n",
      "  self.best_estimator_.fit(X, y, **fit_params)\n"
     ]
    },
    {
     "data": {
      "text/plain": [
       "RandomizedSearchCV(cv=5, estimator=RandomForestClassifier(), n_iter=5,\n",
       "                   n_jobs=-1,\n",
       "                   param_distributions={'bootstrap': [True, False],\n",
       "                                        'max_depth': [3, 4, 6, 8, 10, 12, 14,\n",
       "                                                      16, 18, 20, None],\n",
       "                                        'max_features': ['auto', 'sqrt'],\n",
       "                                        'min_samples_leaf': [1, 2, 4],\n",
       "                                        'min_samples_split': [2, 5, 10],\n",
       "                                        'n_estimators': [20, 240, 460, 680, 900,\n",
       "                                                         1120, 1340, 1560, 1780,\n",
       "                                                         2000]},\n",
       "                   random_state=1234, scoring='accuracy', verbose=1)"
      ]
     },
     "execution_count": 74,
     "metadata": {},
     "output_type": "execute_result"
    }
   ],
   "source": [
    "rf = RandomForestClassifier()\n",
    "rf_random = RandomizedSearchCV(rf, random_grid, n_iter=5, scoring='accuracy', cv=5, n_jobs=-1, random_state=1234,\n",
    "                               verbose=1)\n",
    "rf_random.fit(X_train, y_train)"
   ]
  },
  {
   "cell_type": "code",
   "execution_count": 75,
   "metadata": {},
   "outputs": [
    {
     "data": {
      "text/plain": [
       "{'n_estimators': 680,\n",
       " 'min_samples_split': 5,\n",
       " 'min_samples_leaf': 4,\n",
       " 'max_features': 'sqrt',\n",
       " 'max_depth': 10,\n",
       " 'bootstrap': False}"
      ]
     },
     "execution_count": 75,
     "metadata": {},
     "output_type": "execute_result"
    }
   ],
   "source": [
    "rf_random.best_params_"
   ]
  },
  {
   "cell_type": "code",
   "execution_count": 76,
   "metadata": {},
   "outputs": [
    {
     "data": {
      "text/plain": [
       "0.8431672025723472"
      ]
     },
     "execution_count": 76,
     "metadata": {},
     "output_type": "execute_result"
    }
   ],
   "source": [
    "rf_random.best_score_"
   ]
  },
  {
   "cell_type": "code",
   "execution_count": 77,
   "metadata": {},
   "outputs": [
    {
     "data": {
      "text/plain": [
       "array([0, 0, 0, ..., 0, 0, 0])"
      ]
     },
     "execution_count": 77,
     "metadata": {},
     "output_type": "execute_result"
    }
   ],
   "source": [
    "rf_random.best_estimator_.predict(X_val)"
   ]
  },
  {
   "cell_type": "code",
   "execution_count": 78,
   "metadata": {},
   "outputs": [
    {
     "name": "stdout",
     "output_type": "stream",
     "text": [
      "The average ROC score of the tuned RF model on validation data is 0.85\n"
     ]
    }
   ],
   "source": [
    "y_pred = rf_random.best_estimator_.predict(X_val)\n",
    "val_score = accuracy_score(y_val.values.ravel(), y_pred)\n",
    "print(f\"The average ROC score of the tuned RF model on validation data is {np.round(val_score,2)}\")"
   ]
  },
  {
   "cell_type": "code",
   "execution_count": 79,
   "metadata": {},
   "outputs": [
    {
     "data": {
      "text/html": [
       "<div>\n",
       "<style scoped>\n",
       "    .dataframe tbody tr th:only-of-type {\n",
       "        vertical-align: middle;\n",
       "    }\n",
       "\n",
       "    .dataframe tbody tr th {\n",
       "        vertical-align: top;\n",
       "    }\n",
       "\n",
       "    .dataframe thead th {\n",
       "        text-align: right;\n",
       "    }\n",
       "</style>\n",
       "<table border=\"1\" class=\"dataframe\">\n",
       "  <thead>\n",
       "    <tr style=\"text-align: right;\">\n",
       "      <th></th>\n",
       "      <th>ID</th>\n",
       "      <th>Estimated_Insects_Count</th>\n",
       "      <th>Crop_Type</th>\n",
       "      <th>Soil_Type</th>\n",
       "      <th>Number_Doses_Week</th>\n",
       "      <th>Number_Weeks_Used</th>\n",
       "      <th>Number_Weeks_Quit</th>\n",
       "      <th>Estimated_Insects_Count_mms</th>\n",
       "      <th>Estimated_Insects_Count_ss</th>\n",
       "      <th>Estimated_Insects_Count_rs</th>\n",
       "      <th>...</th>\n",
       "      <th>Number_Weeks_Quit_rs</th>\n",
       "      <th>Number_Weeks_Quit_pt</th>\n",
       "      <th>Number_Weeks_Quit_ft_log</th>\n",
       "      <th>is_train</th>\n",
       "      <th>Season_1</th>\n",
       "      <th>Season_2</th>\n",
       "      <th>Season_3</th>\n",
       "      <th>Pesticide_Use_Category_1</th>\n",
       "      <th>Pesticide_Use_Category_2</th>\n",
       "      <th>Pesticide_Use_Category_3</th>\n",
       "    </tr>\n",
       "  </thead>\n",
       "  <tbody>\n",
       "    <tr>\n",
       "      <th>0</th>\n",
       "      <td>F00000002</td>\n",
       "      <td>188</td>\n",
       "      <td>1</td>\n",
       "      <td>1</td>\n",
       "      <td>0</td>\n",
       "      <td>0.0</td>\n",
       "      <td>0</td>\n",
       "      <td>0.009628</td>\n",
       "      <td>-1.426324</td>\n",
       "      <td>-0.877464</td>\n",
       "      <td>...</td>\n",
       "      <td>-0.4375</td>\n",
       "      <td>-1.272764</td>\n",
       "      <td>0.000000</td>\n",
       "      <td>False</td>\n",
       "      <td>0</td>\n",
       "      <td>1</td>\n",
       "      <td>0</td>\n",
       "      <td>1</td>\n",
       "      <td>0</td>\n",
       "      <td>0</td>\n",
       "    </tr>\n",
       "    <tr>\n",
       "      <th>1</th>\n",
       "      <td>F00000007</td>\n",
       "      <td>410</td>\n",
       "      <td>1</td>\n",
       "      <td>1</td>\n",
       "      <td>0</td>\n",
       "      <td>0.0</td>\n",
       "      <td>0</td>\n",
       "      <td>0.065873</td>\n",
       "      <td>-1.164854</td>\n",
       "      <td>-0.687232</td>\n",
       "      <td>...</td>\n",
       "      <td>-0.4375</td>\n",
       "      <td>-1.272764</td>\n",
       "      <td>0.000000</td>\n",
       "      <td>False</td>\n",
       "      <td>0</td>\n",
       "      <td>1</td>\n",
       "      <td>0</td>\n",
       "      <td>1</td>\n",
       "      <td>0</td>\n",
       "      <td>0</td>\n",
       "    </tr>\n",
       "    <tr>\n",
       "      <th>2</th>\n",
       "      <td>F00000011</td>\n",
       "      <td>626</td>\n",
       "      <td>1</td>\n",
       "      <td>0</td>\n",
       "      <td>0</td>\n",
       "      <td>0.0</td>\n",
       "      <td>0</td>\n",
       "      <td>0.120598</td>\n",
       "      <td>-0.910450</td>\n",
       "      <td>-0.502142</td>\n",
       "      <td>...</td>\n",
       "      <td>-0.4375</td>\n",
       "      <td>-1.272764</td>\n",
       "      <td>0.000000</td>\n",
       "      <td>False</td>\n",
       "      <td>0</td>\n",
       "      <td>1</td>\n",
       "      <td>0</td>\n",
       "      <td>1</td>\n",
       "      <td>0</td>\n",
       "      <td>0</td>\n",
       "    </tr>\n",
       "    <tr>\n",
       "      <th>3</th>\n",
       "      <td>F00000013</td>\n",
       "      <td>731</td>\n",
       "      <td>1</td>\n",
       "      <td>0</td>\n",
       "      <td>0</td>\n",
       "      <td>0.0</td>\n",
       "      <td>0</td>\n",
       "      <td>0.147200</td>\n",
       "      <td>-0.786782</td>\n",
       "      <td>-0.412168</td>\n",
       "      <td>...</td>\n",
       "      <td>-0.4375</td>\n",
       "      <td>-1.272764</td>\n",
       "      <td>0.000000</td>\n",
       "      <td>False</td>\n",
       "      <td>0</td>\n",
       "      <td>1</td>\n",
       "      <td>0</td>\n",
       "      <td>1</td>\n",
       "      <td>0</td>\n",
       "      <td>0</td>\n",
       "    </tr>\n",
       "    <tr>\n",
       "      <th>4</th>\n",
       "      <td>F00000014</td>\n",
       "      <td>789</td>\n",
       "      <td>0</td>\n",
       "      <td>0</td>\n",
       "      <td>0</td>\n",
       "      <td>0.0</td>\n",
       "      <td>0</td>\n",
       "      <td>0.161895</td>\n",
       "      <td>-0.718469</td>\n",
       "      <td>-0.362468</td>\n",
       "      <td>...</td>\n",
       "      <td>-0.4375</td>\n",
       "      <td>-1.272764</td>\n",
       "      <td>0.000000</td>\n",
       "      <td>False</td>\n",
       "      <td>1</td>\n",
       "      <td>0</td>\n",
       "      <td>0</td>\n",
       "      <td>1</td>\n",
       "      <td>0</td>\n",
       "      <td>0</td>\n",
       "    </tr>\n",
       "    <tr>\n",
       "      <th>...</th>\n",
       "      <td>...</td>\n",
       "      <td>...</td>\n",
       "      <td>...</td>\n",
       "      <td>...</td>\n",
       "      <td>...</td>\n",
       "      <td>...</td>\n",
       "      <td>...</td>\n",
       "      <td>...</td>\n",
       "      <td>...</td>\n",
       "      <td>...</td>\n",
       "      <td>...</td>\n",
       "      <td>...</td>\n",
       "      <td>...</td>\n",
       "      <td>...</td>\n",
       "      <td>...</td>\n",
       "      <td>...</td>\n",
       "      <td>...</td>\n",
       "      <td>...</td>\n",
       "      <td>...</td>\n",
       "      <td>...</td>\n",
       "      <td>...</td>\n",
       "    </tr>\n",
       "    <tr>\n",
       "      <th>59305</th>\n",
       "      <td>F00155937</td>\n",
       "      <td>3337</td>\n",
       "      <td>1</td>\n",
       "      <td>0</td>\n",
       "      <td>20</td>\n",
       "      <td>34.0</td>\n",
       "      <td>12</td>\n",
       "      <td>0.807449</td>\n",
       "      <td>2.282553</td>\n",
       "      <td>1.820908</td>\n",
       "      <td>...</td>\n",
       "      <td>0.3125</td>\n",
       "      <td>0.613424</td>\n",
       "      <td>2.564949</td>\n",
       "      <td>False</td>\n",
       "      <td>1</td>\n",
       "      <td>0</td>\n",
       "      <td>0</td>\n",
       "      <td>0</td>\n",
       "      <td>1</td>\n",
       "      <td>0</td>\n",
       "    </tr>\n",
       "    <tr>\n",
       "      <th>59306</th>\n",
       "      <td>F00155940</td>\n",
       "      <td>3516</td>\n",
       "      <td>1</td>\n",
       "      <td>0</td>\n",
       "      <td>20</td>\n",
       "      <td>32.0</td>\n",
       "      <td>10</td>\n",
       "      <td>0.852800</td>\n",
       "      <td>2.493378</td>\n",
       "      <td>1.974293</td>\n",
       "      <td>...</td>\n",
       "      <td>0.1875</td>\n",
       "      <td>0.464956</td>\n",
       "      <td>2.397895</td>\n",
       "      <td>False</td>\n",
       "      <td>0</td>\n",
       "      <td>1</td>\n",
       "      <td>0</td>\n",
       "      <td>0</td>\n",
       "      <td>1</td>\n",
       "      <td>0</td>\n",
       "    </tr>\n",
       "    <tr>\n",
       "      <th>59307</th>\n",
       "      <td>F00155941</td>\n",
       "      <td>3702</td>\n",
       "      <td>1</td>\n",
       "      <td>0</td>\n",
       "      <td>10</td>\n",
       "      <td>0.0</td>\n",
       "      <td>48</td>\n",
       "      <td>0.899924</td>\n",
       "      <td>2.712448</td>\n",
       "      <td>2.133676</td>\n",
       "      <td>...</td>\n",
       "      <td>2.5625</td>\n",
       "      <td>1.949070</td>\n",
       "      <td>3.891820</td>\n",
       "      <td>False</td>\n",
       "      <td>1</td>\n",
       "      <td>0</td>\n",
       "      <td>0</td>\n",
       "      <td>0</td>\n",
       "      <td>1</td>\n",
       "      <td>0</td>\n",
       "    </tr>\n",
       "    <tr>\n",
       "      <th>59308</th>\n",
       "      <td>F00155943</td>\n",
       "      <td>3702</td>\n",
       "      <td>1</td>\n",
       "      <td>0</td>\n",
       "      <td>10</td>\n",
       "      <td>28.0</td>\n",
       "      <td>17</td>\n",
       "      <td>0.899924</td>\n",
       "      <td>2.712448</td>\n",
       "      <td>2.133676</td>\n",
       "      <td>...</td>\n",
       "      <td>0.6250</td>\n",
       "      <td>0.914595</td>\n",
       "      <td>2.890372</td>\n",
       "      <td>False</td>\n",
       "      <td>0</td>\n",
       "      <td>1</td>\n",
       "      <td>0</td>\n",
       "      <td>0</td>\n",
       "      <td>1</td>\n",
       "      <td>0</td>\n",
       "    </tr>\n",
       "    <tr>\n",
       "      <th>59309</th>\n",
       "      <td>F00155944</td>\n",
       "      <td>3895</td>\n",
       "      <td>1</td>\n",
       "      <td>0</td>\n",
       "      <td>5</td>\n",
       "      <td>52.0</td>\n",
       "      <td>7</td>\n",
       "      <td>0.948822</td>\n",
       "      <td>2.939763</td>\n",
       "      <td>2.299057</td>\n",
       "      <td>...</td>\n",
       "      <td>0.0000</td>\n",
       "      <td>0.192964</td>\n",
       "      <td>2.079442</td>\n",
       "      <td>False</td>\n",
       "      <td>1</td>\n",
       "      <td>0</td>\n",
       "      <td>0</td>\n",
       "      <td>0</td>\n",
       "      <td>1</td>\n",
       "      <td>0</td>\n",
       "    </tr>\n",
       "  </tbody>\n",
       "</table>\n",
       "<p>59310 rows × 44 columns</p>\n",
       "</div>"
      ],
      "text/plain": [
       "              ID  Estimated_Insects_Count  Crop_Type  Soil_Type  \\\n",
       "0      F00000002                      188          1          1   \n",
       "1      F00000007                      410          1          1   \n",
       "2      F00000011                      626          1          0   \n",
       "3      F00000013                      731          1          0   \n",
       "4      F00000014                      789          0          0   \n",
       "...          ...                      ...        ...        ...   \n",
       "59305  F00155937                     3337          1          0   \n",
       "59306  F00155940                     3516          1          0   \n",
       "59307  F00155941                     3702          1          0   \n",
       "59308  F00155943                     3702          1          0   \n",
       "59309  F00155944                     3895          1          0   \n",
       "\n",
       "       Number_Doses_Week  Number_Weeks_Used  Number_Weeks_Quit  \\\n",
       "0                      0                0.0                  0   \n",
       "1                      0                0.0                  0   \n",
       "2                      0                0.0                  0   \n",
       "3                      0                0.0                  0   \n",
       "4                      0                0.0                  0   \n",
       "...                  ...                ...                ...   \n",
       "59305                 20               34.0                 12   \n",
       "59306                 20               32.0                 10   \n",
       "59307                 10                0.0                 48   \n",
       "59308                 10               28.0                 17   \n",
       "59309                  5               52.0                  7   \n",
       "\n",
       "       Estimated_Insects_Count_mms  Estimated_Insects_Count_ss  \\\n",
       "0                         0.009628                   -1.426324   \n",
       "1                         0.065873                   -1.164854   \n",
       "2                         0.120598                   -0.910450   \n",
       "3                         0.147200                   -0.786782   \n",
       "4                         0.161895                   -0.718469   \n",
       "...                            ...                         ...   \n",
       "59305                     0.807449                    2.282553   \n",
       "59306                     0.852800                    2.493378   \n",
       "59307                     0.899924                    2.712448   \n",
       "59308                     0.899924                    2.712448   \n",
       "59309                     0.948822                    2.939763   \n",
       "\n",
       "       Estimated_Insects_Count_rs  ...  Number_Weeks_Quit_rs  \\\n",
       "0                       -0.877464  ...               -0.4375   \n",
       "1                       -0.687232  ...               -0.4375   \n",
       "2                       -0.502142  ...               -0.4375   \n",
       "3                       -0.412168  ...               -0.4375   \n",
       "4                       -0.362468  ...               -0.4375   \n",
       "...                           ...  ...                   ...   \n",
       "59305                    1.820908  ...                0.3125   \n",
       "59306                    1.974293  ...                0.1875   \n",
       "59307                    2.133676  ...                2.5625   \n",
       "59308                    2.133676  ...                0.6250   \n",
       "59309                    2.299057  ...                0.0000   \n",
       "\n",
       "       Number_Weeks_Quit_pt  Number_Weeks_Quit_ft_log  is_train  Season_1  \\\n",
       "0                 -1.272764                  0.000000     False         0   \n",
       "1                 -1.272764                  0.000000     False         0   \n",
       "2                 -1.272764                  0.000000     False         0   \n",
       "3                 -1.272764                  0.000000     False         0   \n",
       "4                 -1.272764                  0.000000     False         1   \n",
       "...                     ...                       ...       ...       ...   \n",
       "59305              0.613424                  2.564949     False         1   \n",
       "59306              0.464956                  2.397895     False         0   \n",
       "59307              1.949070                  3.891820     False         1   \n",
       "59308              0.914595                  2.890372     False         0   \n",
       "59309              0.192964                  2.079442     False         1   \n",
       "\n",
       "       Season_2  Season_3  Pesticide_Use_Category_1  Pesticide_Use_Category_2  \\\n",
       "0             1         0                         1                         0   \n",
       "1             1         0                         1                         0   \n",
       "2             1         0                         1                         0   \n",
       "3             1         0                         1                         0   \n",
       "4             0         0                         1                         0   \n",
       "...         ...       ...                       ...                       ...   \n",
       "59305         0         0                         0                         1   \n",
       "59306         1         0                         0                         1   \n",
       "59307         0         0                         0                         1   \n",
       "59308         1         0                         0                         1   \n",
       "59309         0         0                         0                         1   \n",
       "\n",
       "       Pesticide_Use_Category_3  \n",
       "0                             0  \n",
       "1                             0  \n",
       "2                             0  \n",
       "3                             0  \n",
       "4                             0  \n",
       "...                         ...  \n",
       "59305                         0  \n",
       "59306                         0  \n",
       "59307                         0  \n",
       "59308                         0  \n",
       "59309                         0  \n",
       "\n",
       "[59310 rows x 44 columns]"
      ]
     },
     "execution_count": 79,
     "metadata": {},
     "output_type": "execute_result"
    }
   ],
   "source": [
    "test_data"
   ]
  },
  {
   "cell_type": "code",
   "execution_count": 95,
   "metadata": {},
   "outputs": [],
   "source": [
    "final_pred = models['GBM_ES'].predict(test_data.drop(['ID','is_train'], axis=1))"
   ]
  },
  {
   "cell_type": "code",
   "execution_count": 96,
   "metadata": {},
   "outputs": [
    {
     "data": {
      "text/plain": [
       "59310"
      ]
     },
     "execution_count": 96,
     "metadata": {},
     "output_type": "execute_result"
    }
   ],
   "source": [
    "len(final_pred)"
   ]
  },
  {
   "cell_type": "code",
   "execution_count": 97,
   "metadata": {},
   "outputs": [],
   "source": [
    "sample_submission['Crop_Damage'] = final_pred"
   ]
  },
  {
   "cell_type": "code",
   "execution_count": 98,
   "metadata": {},
   "outputs": [],
   "source": [
    "sample_submission.to_csv('submission_gbm_es.csv',index=False)"
   ]
  },
  {
   "cell_type": "code",
   "execution_count": 99,
   "metadata": {},
   "outputs": [],
   "source": [
    "from sklearn.feature_selection import RFE"
   ]
  },
  {
   "cell_type": "code",
   "execution_count": 100,
   "metadata": {},
   "outputs": [
    {
     "data": {
      "text/plain": [
       "RandomForestClassifier(bootstrap=False, max_depth=10, max_features='sqrt',\n",
       "                       min_samples_leaf=4, min_samples_split=5,\n",
       "                       n_estimators=680)"
      ]
     },
     "execution_count": 100,
     "metadata": {},
     "output_type": "execute_result"
    }
   ],
   "source": [
    "rf_random.best_estimator_"
   ]
  },
  {
   "cell_type": "code",
   "execution_count": 102,
   "metadata": {},
   "outputs": [],
   "source": [
    "rfe = RFE(rf_random.best_estimator_, n_features_to_select=25, verbose=1)"
   ]
  },
  {
   "cell_type": "code",
   "execution_count": 103,
   "metadata": {},
   "outputs": [
    {
     "name": "stdout",
     "output_type": "stream",
     "text": [
      "Fitting estimator with 42 features.\n",
      "Fitting estimator with 41 features.\n",
      "Fitting estimator with 40 features.\n",
      "Fitting estimator with 39 features.\n",
      "Fitting estimator with 38 features.\n",
      "Fitting estimator with 37 features.\n",
      "Fitting estimator with 36 features.\n",
      "Fitting estimator with 35 features.\n",
      "Fitting estimator with 34 features.\n",
      "Fitting estimator with 33 features.\n",
      "Fitting estimator with 32 features.\n",
      "Fitting estimator with 31 features.\n",
      "Fitting estimator with 30 features.\n",
      "Fitting estimator with 29 features.\n",
      "Fitting estimator with 28 features.\n",
      "Fitting estimator with 27 features.\n",
      "Fitting estimator with 26 features.\n"
     ]
    }
   ],
   "source": [
    "selector = rfe.fit(X_train, y_train.values.ravel())"
   ]
  },
  {
   "cell_type": "code",
   "execution_count": 104,
   "metadata": {},
   "outputs": [
    {
     "data": {
      "text/plain": [
       "array([ True, False, False,  True,  True,  True,  True,  True,  True,\n",
       "        True,  True, False, False, False, False,  True, False, False,\n",
       "       False, False, False,  True,  True,  True,  True,  True,  True,\n",
       "        True,  True,  True,  True,  True,  True, False,  True, False,\n",
       "       False, False, False, False,  True,  True])"
      ]
     },
     "execution_count": 104,
     "metadata": {},
     "output_type": "execute_result"
    }
   ],
   "source": [
    "selector.support_"
   ]
  },
  {
   "cell_type": "code",
   "execution_count": 113,
   "metadata": {},
   "outputs": [
    {
     "data": {
      "text/plain": [
       "Index(['Estimated_Insects_Count', 'Crop_Type', 'Soil_Type',\n",
       "       'Number_Doses_Week', 'Number_Weeks_Used', 'Number_Weeks_Quit',\n",
       "       'Estimated_Insects_Count_mms', 'Estimated_Insects_Count_ss',\n",
       "       'Estimated_Insects_Count_rs', 'Estimated_Insects_Count_pt',\n",
       "       'Estimated_Insects_Count_ft_log', 'Crop_Type_mms', 'Crop_Type_ss',\n",
       "       'Crop_Type_rs', 'Crop_Type_pt', 'Crop_Type_ft_log', 'Soil_Type_mms',\n",
       "       'Soil_Type_ss', 'Soil_Type_rs', 'Soil_Type_pt', 'Soil_Type_ft_log',\n",
       "       'Number_Doses_Week_mms', 'Number_Doses_Week_ss', 'Number_Doses_Week_rs',\n",
       "       'Number_Doses_Week_pt', 'Number_Doses_Week_ft_log',\n",
       "       'Number_Weeks_Used_mms', 'Number_Weeks_Used_ss', 'Number_Weeks_Used_rs',\n",
       "       'Number_Weeks_Used_pt', 'Number_Weeks_Used_ft_log',\n",
       "       'Number_Weeks_Quit_mms', 'Number_Weeks_Quit_ss', 'Number_Weeks_Quit_rs',\n",
       "       'Number_Weeks_Quit_pt', 'Number_Weeks_Quit_ft_log', 'Season_1',\n",
       "       'Season_2', 'Season_3', 'Pesticide_Use_Category_1',\n",
       "       'Pesticide_Use_Category_2', 'Pesticide_Use_Category_3'],\n",
       "      dtype='object')"
      ]
     },
     "execution_count": 113,
     "metadata": {},
     "output_type": "execute_result"
    }
   ],
   "source": [
    "X_train.columns"
   ]
  },
  {
   "cell_type": "code",
   "execution_count": 114,
   "metadata": {},
   "outputs": [],
   "source": [
    "selected = pd.DataFrame({'feature':X_train.columns, 'selected': selector.support_})"
   ]
  },
  {
   "cell_type": "code",
   "execution_count": 119,
   "metadata": {},
   "outputs": [
    {
     "data": {
      "text/plain": [
       "['Estimated_Insects_Count',\n",
       " 'Number_Doses_Week',\n",
       " 'Number_Weeks_Used',\n",
       " 'Number_Weeks_Quit',\n",
       " 'Estimated_Insects_Count_mms',\n",
       " 'Estimated_Insects_Count_ss',\n",
       " 'Estimated_Insects_Count_rs',\n",
       " 'Estimated_Insects_Count_pt',\n",
       " 'Estimated_Insects_Count_ft_log',\n",
       " 'Crop_Type_ft_log',\n",
       " 'Number_Doses_Week_mms',\n",
       " 'Number_Doses_Week_ss',\n",
       " 'Number_Doses_Week_rs',\n",
       " 'Number_Doses_Week_pt',\n",
       " 'Number_Doses_Week_ft_log',\n",
       " 'Number_Weeks_Used_mms',\n",
       " 'Number_Weeks_Used_ss',\n",
       " 'Number_Weeks_Used_rs',\n",
       " 'Number_Weeks_Used_pt',\n",
       " 'Number_Weeks_Used_ft_log',\n",
       " 'Number_Weeks_Quit_mms',\n",
       " 'Number_Weeks_Quit_ss',\n",
       " 'Number_Weeks_Quit_pt',\n",
       " 'Pesticide_Use_Category_2',\n",
       " 'Pesticide_Use_Category_3']"
      ]
     },
     "execution_count": 119,
     "metadata": {},
     "output_type": "execute_result"
    }
   ],
   "source": [
    "list(selected[selected['selected']==True]['feature'])"
   ]
  },
  {
   "cell_type": "code",
   "execution_count": 105,
   "metadata": {},
   "outputs": [
    {
     "data": {
      "text/plain": [
       "array([ 1,  8, 11,  1,  1,  1,  1,  1,  1,  1,  1,  9,  5,  6,  7,  1, 10,\n",
       "       15, 13, 17, 18,  1,  1,  1,  1,  1,  1,  1,  1,  1,  1,  1,  1,  3,\n",
       "        1,  2, 14, 12, 16,  4,  1,  1])"
      ]
     },
     "execution_count": 105,
     "metadata": {},
     "output_type": "execute_result"
    }
   ],
   "source": [
    "selector.ranking_"
   ]
  },
  {
   "cell_type": "code",
   "execution_count": 106,
   "metadata": {},
   "outputs": [],
   "source": [
    "X_test_transform = selector.transform(test_data.drop(['ID','is_train'], axis=1))"
   ]
  },
  {
   "cell_type": "code",
   "execution_count": 110,
   "metadata": {},
   "outputs": [],
   "source": [
    "final_pred = selector.predict(test_data.drop(['ID','is_train'], axis=1))"
   ]
  },
  {
   "cell_type": "code",
   "execution_count": 111,
   "metadata": {},
   "outputs": [],
   "source": [
    "sample_submission['Crop_Damage'] = final_pred"
   ]
  },
  {
   "cell_type": "code",
   "execution_count": 112,
   "metadata": {},
   "outputs": [],
   "source": [
    "sample_submission.to_csv('rf_tuned_rfe.csv',index=False)"
   ]
  },
  {
   "cell_type": "code",
   "execution_count": 117,
   "metadata": {},
   "outputs": [
    {
     "data": {
      "text/plain": [
       "array([0.04320464, 0.04018929, 0.04211441, 0.02420291, 0.04025785,\n",
       "       0.03934638, 0.03770165, 0.03837314, 0.03870244, 0.02034771,\n",
       "       0.04301679, 0.04020243, 0.03858843, 0.039634  , 0.03809755,\n",
       "       0.04507152, 0.05293414, 0.04302467, 0.04702803, 0.04426941,\n",
       "       0.02274737, 0.02466028, 0.02393084, 0.08917578, 0.04317835])"
      ]
     },
     "execution_count": 117,
     "metadata": {},
     "output_type": "execute_result"
    }
   ],
   "source": [
    "selector.estimator_.feature_importances_"
   ]
  },
  {
   "cell_type": "code",
   "execution_count": 120,
   "metadata": {},
   "outputs": [],
   "source": [
    "model_imp_v = pd.DataFrame({'var':list(selected[selected['selected']==True]['feature']),'imp':selector.estimator_.feature_importances_})"
   ]
  },
  {
   "cell_type": "code",
   "execution_count": 121,
   "metadata": {},
   "outputs": [
    {
     "data": {
      "text/html": [
       "<div>\n",
       "<style scoped>\n",
       "    .dataframe tbody tr th:only-of-type {\n",
       "        vertical-align: middle;\n",
       "    }\n",
       "\n",
       "    .dataframe tbody tr th {\n",
       "        vertical-align: top;\n",
       "    }\n",
       "\n",
       "    .dataframe thead th {\n",
       "        text-align: right;\n",
       "    }\n",
       "</style>\n",
       "<table border=\"1\" class=\"dataframe\">\n",
       "  <thead>\n",
       "    <tr style=\"text-align: right;\">\n",
       "      <th></th>\n",
       "      <th>var</th>\n",
       "      <th>imp</th>\n",
       "    </tr>\n",
       "  </thead>\n",
       "  <tbody>\n",
       "    <tr>\n",
       "      <th>0</th>\n",
       "      <td>Estimated_Insects_Count</td>\n",
       "      <td>0.043205</td>\n",
       "    </tr>\n",
       "    <tr>\n",
       "      <th>1</th>\n",
       "      <td>Number_Doses_Week</td>\n",
       "      <td>0.040189</td>\n",
       "    </tr>\n",
       "    <tr>\n",
       "      <th>2</th>\n",
       "      <td>Number_Weeks_Used</td>\n",
       "      <td>0.042114</td>\n",
       "    </tr>\n",
       "    <tr>\n",
       "      <th>3</th>\n",
       "      <td>Number_Weeks_Quit</td>\n",
       "      <td>0.024203</td>\n",
       "    </tr>\n",
       "    <tr>\n",
       "      <th>4</th>\n",
       "      <td>Estimated_Insects_Count_mms</td>\n",
       "      <td>0.040258</td>\n",
       "    </tr>\n",
       "    <tr>\n",
       "      <th>5</th>\n",
       "      <td>Estimated_Insects_Count_ss</td>\n",
       "      <td>0.039346</td>\n",
       "    </tr>\n",
       "    <tr>\n",
       "      <th>6</th>\n",
       "      <td>Estimated_Insects_Count_rs</td>\n",
       "      <td>0.037702</td>\n",
       "    </tr>\n",
       "    <tr>\n",
       "      <th>7</th>\n",
       "      <td>Estimated_Insects_Count_pt</td>\n",
       "      <td>0.038373</td>\n",
       "    </tr>\n",
       "    <tr>\n",
       "      <th>8</th>\n",
       "      <td>Estimated_Insects_Count_ft_log</td>\n",
       "      <td>0.038702</td>\n",
       "    </tr>\n",
       "    <tr>\n",
       "      <th>9</th>\n",
       "      <td>Crop_Type_ft_log</td>\n",
       "      <td>0.020348</td>\n",
       "    </tr>\n",
       "    <tr>\n",
       "      <th>10</th>\n",
       "      <td>Number_Doses_Week_mms</td>\n",
       "      <td>0.043017</td>\n",
       "    </tr>\n",
       "    <tr>\n",
       "      <th>11</th>\n",
       "      <td>Number_Doses_Week_ss</td>\n",
       "      <td>0.040202</td>\n",
       "    </tr>\n",
       "    <tr>\n",
       "      <th>12</th>\n",
       "      <td>Number_Doses_Week_rs</td>\n",
       "      <td>0.038588</td>\n",
       "    </tr>\n",
       "    <tr>\n",
       "      <th>13</th>\n",
       "      <td>Number_Doses_Week_pt</td>\n",
       "      <td>0.039634</td>\n",
       "    </tr>\n",
       "    <tr>\n",
       "      <th>14</th>\n",
       "      <td>Number_Doses_Week_ft_log</td>\n",
       "      <td>0.038098</td>\n",
       "    </tr>\n",
       "    <tr>\n",
       "      <th>15</th>\n",
       "      <td>Number_Weeks_Used_mms</td>\n",
       "      <td>0.045072</td>\n",
       "    </tr>\n",
       "    <tr>\n",
       "      <th>16</th>\n",
       "      <td>Number_Weeks_Used_ss</td>\n",
       "      <td>0.052934</td>\n",
       "    </tr>\n",
       "    <tr>\n",
       "      <th>17</th>\n",
       "      <td>Number_Weeks_Used_rs</td>\n",
       "      <td>0.043025</td>\n",
       "    </tr>\n",
       "    <tr>\n",
       "      <th>18</th>\n",
       "      <td>Number_Weeks_Used_pt</td>\n",
       "      <td>0.047028</td>\n",
       "    </tr>\n",
       "    <tr>\n",
       "      <th>19</th>\n",
       "      <td>Number_Weeks_Used_ft_log</td>\n",
       "      <td>0.044269</td>\n",
       "    </tr>\n",
       "    <tr>\n",
       "      <th>20</th>\n",
       "      <td>Number_Weeks_Quit_mms</td>\n",
       "      <td>0.022747</td>\n",
       "    </tr>\n",
       "    <tr>\n",
       "      <th>21</th>\n",
       "      <td>Number_Weeks_Quit_ss</td>\n",
       "      <td>0.024660</td>\n",
       "    </tr>\n",
       "    <tr>\n",
       "      <th>22</th>\n",
       "      <td>Number_Weeks_Quit_pt</td>\n",
       "      <td>0.023931</td>\n",
       "    </tr>\n",
       "    <tr>\n",
       "      <th>23</th>\n",
       "      <td>Pesticide_Use_Category_2</td>\n",
       "      <td>0.089176</td>\n",
       "    </tr>\n",
       "    <tr>\n",
       "      <th>24</th>\n",
       "      <td>Pesticide_Use_Category_3</td>\n",
       "      <td>0.043178</td>\n",
       "    </tr>\n",
       "  </tbody>\n",
       "</table>\n",
       "</div>"
      ],
      "text/plain": [
       "                               var       imp\n",
       "0          Estimated_Insects_Count  0.043205\n",
       "1                Number_Doses_Week  0.040189\n",
       "2                Number_Weeks_Used  0.042114\n",
       "3                Number_Weeks_Quit  0.024203\n",
       "4      Estimated_Insects_Count_mms  0.040258\n",
       "5       Estimated_Insects_Count_ss  0.039346\n",
       "6       Estimated_Insects_Count_rs  0.037702\n",
       "7       Estimated_Insects_Count_pt  0.038373\n",
       "8   Estimated_Insects_Count_ft_log  0.038702\n",
       "9                 Crop_Type_ft_log  0.020348\n",
       "10           Number_Doses_Week_mms  0.043017\n",
       "11            Number_Doses_Week_ss  0.040202\n",
       "12            Number_Doses_Week_rs  0.038588\n",
       "13            Number_Doses_Week_pt  0.039634\n",
       "14        Number_Doses_Week_ft_log  0.038098\n",
       "15           Number_Weeks_Used_mms  0.045072\n",
       "16            Number_Weeks_Used_ss  0.052934\n",
       "17            Number_Weeks_Used_rs  0.043025\n",
       "18            Number_Weeks_Used_pt  0.047028\n",
       "19        Number_Weeks_Used_ft_log  0.044269\n",
       "20           Number_Weeks_Quit_mms  0.022747\n",
       "21            Number_Weeks_Quit_ss  0.024660\n",
       "22            Number_Weeks_Quit_pt  0.023931\n",
       "23        Pesticide_Use_Category_2  0.089176\n",
       "24        Pesticide_Use_Category_3  0.043178"
      ]
     },
     "execution_count": 121,
     "metadata": {},
     "output_type": "execute_result"
    }
   ],
   "source": [
    "model_imp_v"
   ]
  },
  {
   "cell_type": "code",
   "execution_count": 122,
   "metadata": {},
   "outputs": [
    {
     "data": {
      "text/html": [
       "<div>\n",
       "<style scoped>\n",
       "    .dataframe tbody tr th:only-of-type {\n",
       "        vertical-align: middle;\n",
       "    }\n",
       "\n",
       "    .dataframe tbody tr th {\n",
       "        vertical-align: top;\n",
       "    }\n",
       "\n",
       "    .dataframe thead th {\n",
       "        text-align: right;\n",
       "    }\n",
       "</style>\n",
       "<table border=\"1\" class=\"dataframe\">\n",
       "  <thead>\n",
       "    <tr style=\"text-align: right;\">\n",
       "      <th></th>\n",
       "      <th>var</th>\n",
       "      <th>imp</th>\n",
       "    </tr>\n",
       "  </thead>\n",
       "  <tbody>\n",
       "    <tr>\n",
       "      <th>0</th>\n",
       "      <td>Estimated_Insects_Count</td>\n",
       "      <td>0.042927</td>\n",
       "    </tr>\n",
       "    <tr>\n",
       "      <th>1</th>\n",
       "      <td>Crop_Type</td>\n",
       "      <td>0.005020</td>\n",
       "    </tr>\n",
       "    <tr>\n",
       "      <th>2</th>\n",
       "      <td>Soil_Type</td>\n",
       "      <td>0.002597</td>\n",
       "    </tr>\n",
       "    <tr>\n",
       "      <th>3</th>\n",
       "      <td>Number_Doses_Week</td>\n",
       "      <td>0.036682</td>\n",
       "    </tr>\n",
       "    <tr>\n",
       "      <th>4</th>\n",
       "      <td>Number_Weeks_Used</td>\n",
       "      <td>0.040675</td>\n",
       "    </tr>\n",
       "    <tr>\n",
       "      <th>5</th>\n",
       "      <td>Number_Weeks_Quit</td>\n",
       "      <td>0.022575</td>\n",
       "    </tr>\n",
       "    <tr>\n",
       "      <th>6</th>\n",
       "      <td>Estimated_Insects_Count_mms</td>\n",
       "      <td>0.043428</td>\n",
       "    </tr>\n",
       "    <tr>\n",
       "      <th>7</th>\n",
       "      <td>Estimated_Insects_Count_ss</td>\n",
       "      <td>0.038152</td>\n",
       "    </tr>\n",
       "    <tr>\n",
       "      <th>8</th>\n",
       "      <td>Estimated_Insects_Count_rs</td>\n",
       "      <td>0.041731</td>\n",
       "    </tr>\n",
       "    <tr>\n",
       "      <th>9</th>\n",
       "      <td>Estimated_Insects_Count_pt</td>\n",
       "      <td>0.041737</td>\n",
       "    </tr>\n",
       "    <tr>\n",
       "      <th>10</th>\n",
       "      <td>Estimated_Insects_Count_ft_log</td>\n",
       "      <td>0.043240</td>\n",
       "    </tr>\n",
       "    <tr>\n",
       "      <th>11</th>\n",
       "      <td>Crop_Type_mms</td>\n",
       "      <td>0.005191</td>\n",
       "    </tr>\n",
       "    <tr>\n",
       "      <th>12</th>\n",
       "      <td>Crop_Type_ss</td>\n",
       "      <td>0.005151</td>\n",
       "    </tr>\n",
       "    <tr>\n",
       "      <th>13</th>\n",
       "      <td>Crop_Type_rs</td>\n",
       "      <td>0.004869</td>\n",
       "    </tr>\n",
       "    <tr>\n",
       "      <th>14</th>\n",
       "      <td>Crop_Type_pt</td>\n",
       "      <td>0.005073</td>\n",
       "    </tr>\n",
       "    <tr>\n",
       "      <th>15</th>\n",
       "      <td>Crop_Type_ft_log</td>\n",
       "      <td>0.005203</td>\n",
       "    </tr>\n",
       "    <tr>\n",
       "      <th>16</th>\n",
       "      <td>Soil_Type_mms</td>\n",
       "      <td>0.002772</td>\n",
       "    </tr>\n",
       "    <tr>\n",
       "      <th>17</th>\n",
       "      <td>Soil_Type_ss</td>\n",
       "      <td>0.002627</td>\n",
       "    </tr>\n",
       "    <tr>\n",
       "      <th>18</th>\n",
       "      <td>Soil_Type_rs</td>\n",
       "      <td>0.002754</td>\n",
       "    </tr>\n",
       "    <tr>\n",
       "      <th>19</th>\n",
       "      <td>Soil_Type_pt</td>\n",
       "      <td>0.002655</td>\n",
       "    </tr>\n",
       "    <tr>\n",
       "      <th>20</th>\n",
       "      <td>Soil_Type_ft_log</td>\n",
       "      <td>0.002705</td>\n",
       "    </tr>\n",
       "    <tr>\n",
       "      <th>21</th>\n",
       "      <td>Number_Doses_Week_mms</td>\n",
       "      <td>0.032887</td>\n",
       "    </tr>\n",
       "    <tr>\n",
       "      <th>22</th>\n",
       "      <td>Number_Doses_Week_ss</td>\n",
       "      <td>0.034771</td>\n",
       "    </tr>\n",
       "    <tr>\n",
       "      <th>23</th>\n",
       "      <td>Number_Doses_Week_rs</td>\n",
       "      <td>0.029502</td>\n",
       "    </tr>\n",
       "    <tr>\n",
       "      <th>24</th>\n",
       "      <td>Number_Doses_Week_pt</td>\n",
       "      <td>0.032733</td>\n",
       "    </tr>\n",
       "    <tr>\n",
       "      <th>25</th>\n",
       "      <td>Number_Doses_Week_ft_log</td>\n",
       "      <td>0.033058</td>\n",
       "    </tr>\n",
       "    <tr>\n",
       "      <th>26</th>\n",
       "      <td>Number_Weeks_Used_mms</td>\n",
       "      <td>0.041441</td>\n",
       "    </tr>\n",
       "    <tr>\n",
       "      <th>27</th>\n",
       "      <td>Number_Weeks_Used_ss</td>\n",
       "      <td>0.043446</td>\n",
       "    </tr>\n",
       "    <tr>\n",
       "      <th>28</th>\n",
       "      <td>Number_Weeks_Used_rs</td>\n",
       "      <td>0.040297</td>\n",
       "    </tr>\n",
       "    <tr>\n",
       "      <th>29</th>\n",
       "      <td>Number_Weeks_Used_pt</td>\n",
       "      <td>0.041922</td>\n",
       "    </tr>\n",
       "    <tr>\n",
       "      <th>30</th>\n",
       "      <td>Number_Weeks_Used_ft_log</td>\n",
       "      <td>0.043144</td>\n",
       "    </tr>\n",
       "    <tr>\n",
       "      <th>31</th>\n",
       "      <td>Number_Weeks_Quit_mms</td>\n",
       "      <td>0.021059</td>\n",
       "    </tr>\n",
       "    <tr>\n",
       "      <th>32</th>\n",
       "      <td>Number_Weeks_Quit_ss</td>\n",
       "      <td>0.020897</td>\n",
       "    </tr>\n",
       "    <tr>\n",
       "      <th>33</th>\n",
       "      <td>Number_Weeks_Quit_rs</td>\n",
       "      <td>0.020208</td>\n",
       "    </tr>\n",
       "    <tr>\n",
       "      <th>34</th>\n",
       "      <td>Number_Weeks_Quit_pt</td>\n",
       "      <td>0.020819</td>\n",
       "    </tr>\n",
       "    <tr>\n",
       "      <th>35</th>\n",
       "      <td>Number_Weeks_Quit_ft_log</td>\n",
       "      <td>0.022069</td>\n",
       "    </tr>\n",
       "    <tr>\n",
       "      <th>36</th>\n",
       "      <td>Season_1</td>\n",
       "      <td>0.004970</td>\n",
       "    </tr>\n",
       "    <tr>\n",
       "      <th>37</th>\n",
       "      <td>Season_2</td>\n",
       "      <td>0.005051</td>\n",
       "    </tr>\n",
       "    <tr>\n",
       "      <th>38</th>\n",
       "      <td>Season_3</td>\n",
       "      <td>0.004482</td>\n",
       "    </tr>\n",
       "    <tr>\n",
       "      <th>39</th>\n",
       "      <td>Pesticide_Use_Category_1</td>\n",
       "      <td>0.014537</td>\n",
       "    </tr>\n",
       "    <tr>\n",
       "      <th>40</th>\n",
       "      <td>Pesticide_Use_Category_2</td>\n",
       "      <td>0.065647</td>\n",
       "    </tr>\n",
       "    <tr>\n",
       "      <th>41</th>\n",
       "      <td>Pesticide_Use_Category_3</td>\n",
       "      <td>0.029294</td>\n",
       "    </tr>\n",
       "  </tbody>\n",
       "</table>\n",
       "</div>"
      ],
      "text/plain": [
       "                               var       imp\n",
       "0          Estimated_Insects_Count  0.042927\n",
       "1                        Crop_Type  0.005020\n",
       "2                        Soil_Type  0.002597\n",
       "3                Number_Doses_Week  0.036682\n",
       "4                Number_Weeks_Used  0.040675\n",
       "5                Number_Weeks_Quit  0.022575\n",
       "6      Estimated_Insects_Count_mms  0.043428\n",
       "7       Estimated_Insects_Count_ss  0.038152\n",
       "8       Estimated_Insects_Count_rs  0.041731\n",
       "9       Estimated_Insects_Count_pt  0.041737\n",
       "10  Estimated_Insects_Count_ft_log  0.043240\n",
       "11                   Crop_Type_mms  0.005191\n",
       "12                    Crop_Type_ss  0.005151\n",
       "13                    Crop_Type_rs  0.004869\n",
       "14                    Crop_Type_pt  0.005073\n",
       "15                Crop_Type_ft_log  0.005203\n",
       "16                   Soil_Type_mms  0.002772\n",
       "17                    Soil_Type_ss  0.002627\n",
       "18                    Soil_Type_rs  0.002754\n",
       "19                    Soil_Type_pt  0.002655\n",
       "20                Soil_Type_ft_log  0.002705\n",
       "21           Number_Doses_Week_mms  0.032887\n",
       "22            Number_Doses_Week_ss  0.034771\n",
       "23            Number_Doses_Week_rs  0.029502\n",
       "24            Number_Doses_Week_pt  0.032733\n",
       "25        Number_Doses_Week_ft_log  0.033058\n",
       "26           Number_Weeks_Used_mms  0.041441\n",
       "27            Number_Weeks_Used_ss  0.043446\n",
       "28            Number_Weeks_Used_rs  0.040297\n",
       "29            Number_Weeks_Used_pt  0.041922\n",
       "30        Number_Weeks_Used_ft_log  0.043144\n",
       "31           Number_Weeks_Quit_mms  0.021059\n",
       "32            Number_Weeks_Quit_ss  0.020897\n",
       "33            Number_Weeks_Quit_rs  0.020208\n",
       "34            Number_Weeks_Quit_pt  0.020819\n",
       "35        Number_Weeks_Quit_ft_log  0.022069\n",
       "36                        Season_1  0.004970\n",
       "37                        Season_2  0.005051\n",
       "38                        Season_3  0.004482\n",
       "39        Pesticide_Use_Category_1  0.014537\n",
       "40        Pesticide_Use_Category_2  0.065647\n",
       "41        Pesticide_Use_Category_3  0.029294"
      ]
     },
     "execution_count": 122,
     "metadata": {},
     "output_type": "execute_result"
    }
   ],
   "source": [
    "model_imp"
   ]
  },
  {
   "cell_type": "code",
   "execution_count": null,
   "metadata": {},
   "outputs": [],
   "source": []
  }
 ],
 "metadata": {
  "kernelspec": {
   "display_name": "Python 3",
   "language": "python",
   "name": "python3"
  },
  "language_info": {
   "codemirror_mode": {
    "name": "ipython",
    "version": 3
   },
   "file_extension": ".py",
   "mimetype": "text/x-python",
   "name": "python",
   "nbconvert_exporter": "python",
   "pygments_lexer": "ipython3",
   "version": "3.7.6"
  }
 },
 "nbformat": 4,
 "nbformat_minor": 4
}
